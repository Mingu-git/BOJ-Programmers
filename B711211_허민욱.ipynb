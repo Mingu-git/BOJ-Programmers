{
 "cells": [
  {
   "cell_type": "code",
   "execution_count": 7,
   "source": [
    "#B711211 허민욱\n",
    "# 1번\n",
    "\n",
    "a = float(input(\"삼각형의 밑변을 입력하세요(상수형) : \"))\n",
    "b = float(input(\"삼각형의 높이를 입력하세요(상수형) :\"))\n",
    "c = a*b /2\n",
    "\n",
    "print(\"밑변\",a, \"이고,높이가\",b,\"인 삼각형의 면적 :\" , c)\n"
   ],
   "outputs": [
    {
     "output_type": "stream",
     "name": "stdout",
     "text": [
      "밑변 5.0 이고,높이가 4.0 인 삼각형의 면적 : 10.0\n"
     ]
    }
   ],
   "metadata": {}
  },
  {
   "cell_type": "code",
   "execution_count": 8,
   "source": [
    "#B711211 허민욱\n",
    "# 2번\n",
    "\n",
    "a = input(\"첫번째 과목명을 입력하세요 : \")\n",
    "a_score =float(input(\"첫번째 과목의 점수를 입력하세요 : 75\"))\n",
    "\n",
    "b = input(\"두번째 과목명을 입력하세요 : \")\n",
    "b_score = float(input(\"두번쨰 과목의 점수를 입력하세요 : \"))\n",
    "\n",
    "c = input(\"세번쨰 과목명을 입력하세요 :\")\n",
    "c_score = float(input(\"세번째 과목의 점수를 입력하세요 :\"))\n",
    "\n",
    "print(a,\"점수 = \",a_score )\n",
    "print(b,\"점수 = \",b_score )\n",
    "print(c,\"점수 = \",c_score )\n",
    "\n",
    "sum = float(a_score + b_score + c_score)\n",
    "avg = sum / 3\n",
    "\n",
    "print(\"세점수의 합계 = \",sum)\n",
    "print(\"세점수의 평균 = \",avg)\n"
   ],
   "outputs": [
    {
     "output_type": "stream",
     "name": "stdout",
     "text": [
      "Math 점수 =  75.0\n",
      "English 점수 =  80.0\n",
      "Python 점수 =  95.0\n",
      "세점수의 합계 =  250.0\n",
      "세점수의 평균 =  83.33333333333333\n"
     ]
    }
   ],
   "metadata": {}
  }
 ],
 "metadata": {
  "orig_nbformat": 4,
  "language_info": {
   "name": "python",
   "version": "3.8.8",
   "mimetype": "text/x-python",
   "codemirror_mode": {
    "name": "ipython",
    "version": 3
   },
   "pygments_lexer": "ipython3",
   "nbconvert_exporter": "python",
   "file_extension": ".py"
  },
  "kernelspec": {
   "name": "python3",
   "display_name": "Python 3.8.8 64-bit ('base': conda)"
  },
  "interpreter": {
   "hash": "fea823c3edafe206f66dfd62c213db0c790f4af71a553a03db6c91462ab96c0c"
  }
 },
 "nbformat": 4,
 "nbformat_minor": 2
}