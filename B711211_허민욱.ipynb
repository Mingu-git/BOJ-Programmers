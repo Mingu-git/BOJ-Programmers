{
 "cells": [
  {
   "cell_type": "code",
   "execution_count": 29,
   "source": [
    "#B711211 허민욱\n",
    "#8-3번\n",
    "\n",
    "student_tup = (('211101','조성훈','010-1234-4500'),('211102','김은지','010-2230-6540'),('211103','윤소정','010-3232-7788'))\n",
    "student_dict = {}\n",
    "\n",
    "for i in student_tup:\n",
    "    student_dict[i[0]] = [i[1],i[2]]\n",
    "    \n",
    "print(\"학생 정보 목록\")\n",
    "\n",
    "for i , j in student_dict.items():\n",
    "    print(\"{'\",i,\"' : \",j,\"}\")\n",
    "    \n",
    "\n",
    "num = str(input(()))\n",
    "print(\"이름 : \",student_dict[num][0])\n",
    "print(\"연락처 : \" ,student_dict[num][1])\n",
    "\n",
    "\n",
    "student_dict[\"211101\"].append(4.3)\n",
    "student_dict[\"211102\"].append(3.9)\n",
    "student_dict[\"211103\"].append(4.25)\n",
    "print((\"학생의 정보 목록\"))\n",
    "for i , j in student_dict.items():\n",
    "    print(\"{'\",i,\"' : \",j,\"}\")\n",
    "    \n",
    "avg = 0\n",
    "\n",
    "for i ,j in student_dict.items():\n",
    "    avg += j[2]\n",
    "print(\"전체 학생의 평균 : \" , round((avg / 3),2))\n",
    "    \n",
    "\n",
    "\n"
   ],
   "outputs": [
    {
     "output_type": "stream",
     "name": "stdout",
     "text": [
      "학생 정보 목록\n",
      "{' 211101 ' :  ['조성훈', '010-1234-4500'] }\n",
      "{' 211102 ' :  ['김은지', '010-2230-6540'] }\n",
      "{' 211103 ' :  ['윤소정', '010-3232-7788'] }\n",
      "이름 :  윤소정\n",
      "연락처 :  010-3232-7788\n",
      "학생의 정보 목록\n",
      "{' 211101 ' :  ['조성훈', '010-1234-4500', 4.3] }\n",
      "{' 211102 ' :  ['김은지', '010-2230-6540', 3.9] }\n",
      "{' 211103 ' :  ['윤소정', '010-3232-7788', 4.25] }\n",
      "전체 학생의 평균 :  4.15\n"
     ]
    }
   ],
   "metadata": {}
  },
  {
   "cell_type": "code",
   "execution_count": null,
   "source": [
    "#B711211 허민욱\n",
    "#8-4 번\n",
    "\n",
    "arr  = [10,30,40,50,30,30,20,20,20,10,30]\n",
    "\n"
   ],
   "outputs": [],
   "metadata": {}
  }
 ],
 "metadata": {
  "orig_nbformat": 4,
  "language_info": {
   "name": "python",
   "version": "3.8.8",
   "mimetype": "text/x-python",
   "codemirror_mode": {
    "name": "ipython",
    "version": 3
   },
   "pygments_lexer": "ipython3",
   "nbconvert_exporter": "python",
   "file_extension": ".py"
  },
  "kernelspec": {
   "name": "python3",
   "display_name": "Python 3.8.8 64-bit ('base': conda)"
  },
  "interpreter": {
   "hash": "fea823c3edafe206f66dfd62c213db0c790f4af71a553a03db6c91462ab96c0c"
  }
 },
 "nbformat": 4,
 "nbformat_minor": 2
}