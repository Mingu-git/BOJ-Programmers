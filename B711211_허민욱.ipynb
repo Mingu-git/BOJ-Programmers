{
 "cells": [
  {
   "cell_type": "code",
   "execution_count": 3,
   "source": [
    "#B711211 허민욱\n",
    "# 5-3번\n",
    "\n",
    "print(\"맛나 식당에 오신 것을 환영합니다. 메뉴는 다음과 같습니다.\")\n",
    "print(\"1) 햄버거\")\n",
    "print(\"2) 치킨\")\n",
    "print(\"3) 피자\")\n",
    "choice = int(input(\"1에서 3까지의 메뉴를 선택하세요 :\"))\n",
    "\n",
    "while not(choice == 1 or choice == 2 or choice == 3):\n",
    "    choice = int(input(\"메뉴를 다시 입력하세요:\"))\n",
    "    \n",
    "if choice == 1:\n",
    "    print(\" 햄버거를 선택하였습니다.\")\n",
    "elif choice == 2:\n",
    "    print(\"치킨을 선택하였습니다.\")\n",
    "else:\n",
    "    print(\"피자를 선택하였습니다.\")"
   ],
   "outputs": [
    {
     "output_type": "stream",
     "name": "stdout",
     "text": [
      "맛나 식당에 오신 것을 환영합니다. 메뉴는 다음과 같습니다.\n",
      "1) 햄버거\n",
      "2) 치킨\n",
      "3) 피자\n",
      "치킨을 선택하였습니다.\n"
     ]
    }
   ],
   "metadata": {}
  },
  {
   "cell_type": "code",
   "execution_count": 5,
   "source": [
    "#B711211 허민욱\n",
    "# 5-7번\n",
    "\n",
    "\n",
    "print(\"세 자리의 암스트롱 수 : \",end=\" \")\n",
    "for j in range(100,1000):\n",
    "    a = j // 100\n",
    "    b = (j- (a*100))//10\n",
    "    c =  j - (a*100) - (b*10)\n",
    "    result = (a**3) +(b**3) + (c**3)\n",
    "    if j == result:\n",
    "        print(j, end=\" \")\n",
    "\n",
    " "
   ],
   "outputs": [
    {
     "output_type": "stream",
     "name": "stdout",
     "text": [
      "세 자리의 암스트롱 수 :  153 370 371 407 "
     ]
    }
   ],
   "metadata": {}
  },
  {
   "cell_type": "code",
   "execution_count": 8,
   "source": [
    "#B711211 허민욱\n",
    "# 5-8번\n",
    "\n",
    "while 1:\n",
    "    num = int(input(\"정수를 입력하시오 :\"))\n",
    "    \n",
    "    if num == -99 :\n",
    "        print(\"프로그램을 종료합니다.\")\n",
    "        break\n",
    "    \n",
    "    \n",
    "    num_reverse = int(str(num)[::-1])\n",
    "    \n",
    "    if num == num_reverse:\n",
    "        print(num,\"은(는) 거꾸로 정수입니다\")\n",
    "    else:\n",
    "        print(num,\"은(는) 거꾸로 정수가 아닙니다.\")\n",
    "    \n",
    "    \n",
    "    "
   ],
   "outputs": [
    {
     "output_type": "stream",
     "name": "stdout",
     "text": [
      "3443 은(는) 거꾸로 정수입니다\n",
      "324 은(는) 거꾸로 정수가 아닙니다.\n",
      "121 은(는) 거꾸로 정수입니다\n",
      "프로그램을 종료합니다.\n"
     ]
    }
   ],
   "metadata": {}
  }
 ],
 "metadata": {
  "orig_nbformat": 4,
  "language_info": {
   "name": "python",
   "version": "3.8.8",
   "mimetype": "text/x-python",
   "codemirror_mode": {
    "name": "ipython",
    "version": 3
   },
   "pygments_lexer": "ipython3",
   "nbconvert_exporter": "python",
   "file_extension": ".py"
  },
  "kernelspec": {
   "name": "python3",
   "display_name": "Python 3.8.8 64-bit ('base': conda)"
  },
  "interpreter": {
   "hash": "fea823c3edafe206f66dfd62c213db0c790f4af71a553a03db6c91462ab96c0c"
  }
 },
 "nbformat": 4,
 "nbformat_minor": 2
}